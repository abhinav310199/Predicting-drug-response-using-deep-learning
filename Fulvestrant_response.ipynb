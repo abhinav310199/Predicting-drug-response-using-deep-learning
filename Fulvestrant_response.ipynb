{
 "cells": [
  {
   "cell_type": "code",
   "execution_count": 64,
   "id": "42e1339c-e815-4d85-9c48-188a411dce0f",
   "metadata": {
    "tags": []
   },
   "outputs": [
    {
     "name": "stdout",
     "output_type": "stream",
     "text": [
      "Selected Features with Mutual Information Score > 0.2: ['rna_LOC100505938', 'rna_ZNF296', 'rna_LINC00493', 'rna_RFX5', 'rna_DCAF12L1', 'rna_DNAJA2', 'rna_RNF157', 'rna_CASP6', 'rna_ITGA1', 'rna_ZHX1-C8orf76', 'rna_TAF13', 'rna_MED18', 'rna_DPH7', 'rna_ABT1', 'rna_PPCS', 'rna_FAM127A', 'rna_PDE6B', 'rna_DCP1B', 'rna_SLC2A1', 'rna_TARSL2', 'rna_COQ4', 'mut_AKAP13', 'rna_MRPS34', 'rna_FBXO33', 'rna_JAGN1', 'rna_ZNF548', 'rna_KCNQ4', 'rna_MYO10', 'rna_AMDHD2', 'rna_LINC00173']\n"
     ]
    }
   ],
   "source": [
    "import pandas as pd\n",
    "from sklearn.feature_selection import mutual_info_classif\n",
    "from sklearn.preprocessing import LabelEncoder\n",
    "\n",
    "# Load the training data\n",
    "train_data_path = '/data/challenge2_files/fulvestrantTrain.tsv'\n",
    "train_df = pd.read_csv(train_data_path, sep='\\t')\n",
    "\n",
    "# Assuming 'Fulvestrant_response' is the target variable\n",
    "target_variable = 'Fulvestrant_response'\n",
    "\n",
    "# Separate features and target variable\n",
    "X = train_df.drop(target_variable, axis=1)\n",
    "y = train_df[target_variable]\n",
    "\n",
    "# Encode categorical variables if needed\n",
    "le = LabelEncoder()\n",
    "for column in X.select_dtypes(include=['object']).columns:\n",
    "    X[column] = le.fit_transform(X[column])\n",
    "\n",
    "# Calculate mutual information scores\n",
    "mutual_info_scores = mutual_info_classif(X, y)\n",
    "\n",
    "# Create a DataFrame to display feature names and their mutual information scores\n",
    "feature_scores = pd.DataFrame({'Feature': X.columns, 'Mutual_Info_Score': mutual_info_scores})\n",
    "feature_scores = feature_scores.sort_values(by='Mutual_Info_Score', ascending=False)\n",
    "\n",
    "# Print features with mutual information score greater than 0.2\n",
    "selected_features = feature_scores[feature_scores['Mutual_Info_Score'] > 0.2]['Feature'].tolist()\n",
    "print(\"Selected Features with Mutual Information Score > 0.2:\", selected_features)\n"
   ]
  },
  {
   "cell_type": "code",
   "execution_count": 78,
   "id": "8b2c48ea-b495-46f6-927f-5026e4dde953",
   "metadata": {
    "tags": []
   },
   "outputs": [
    {
     "name": "stdout",
     "output_type": "stream",
     "text": [
      "Mean Cross-Validated Accuracy: 0.95\n",
      "                 Fulvestrant_response\n",
      "BrainCNS_VFF746                     0\n",
      "Bowel_KI64                          0\n",
      "Bowel_QEVT62                        0\n",
      "Lung_TXY395                         0\n",
      "Lung_JIL5                           1\n",
      "Blood_CB485                         0\n",
      "Skin_SFL7                           0\n",
      "Skin_VAK5                           0\n",
      "Ovary_XT38                          0\n"
     ]
    }
   ],
   "source": [
    "import pandas as pd\n",
    "from sklearn.model_selection import train_test_split, cross_val_score\n",
    "from sklearn.preprocessing import StandardScaler, OneHotEncoder, PowerTransformer\n",
    "from sklearn.compose import ColumnTransformer\n",
    "from sklearn.feature_selection import SelectKBest, f_classif\n",
    "from sklearn.metrics import accuracy_score\n",
    "from imblearn.over_sampling import SMOTE\n",
    "from sklearn.ensemble import AdaBoostClassifier\n",
    "from sklearn.tree import DecisionTreeClassifier\n",
    "\n",
    "# Load the training and test datasets\n",
    "train_data_path = '/data/challenge2_files/fulvestrantTrain.tsv'\n",
    "test_data_path = '/data/testData.tsv'\n",
    "train_df = pd.read_csv(train_data_path, sep='\\t')\n",
    "test_df = pd.read_csv(test_data_path, sep='\\t')\n",
    "\n",
    "# Columns of interest from decision tree\n",
    "# Columns to include for modeling\n",
    "columns_of_interest = ['rna_LOC100505938', 'rna_ZNF296', 'rna_LINC00493', 'rna_RFX5', 'rna_DCAF12L1', 'rna_DNAJA2', 'rna_RNF157', 'rna_CASP6', 'rna_ITGA1', 'rna_ZHX1-C8orf76', 'rna_TAF13', 'rna_MED18', 'rna_DPH7', 'rna_ABT1', 'rna_PPCS', 'rna_FAM127A', 'rna_PDE6B', 'rna_DCP1B', 'rna_SLC2A1', 'rna_TARSL2', 'rna_COQ4', 'mut_AKAP13', 'rna_MRPS34', 'rna_FBXO33', 'rna_JAGN1', 'rna_ZNF548', 'rna_KCNQ4', 'rna_MYO10', 'rna_AMDHD2', 'rna_LINC00173']\n",
    "target_column = 'Fulvestrant_response'\n",
    "\n",
    "# Ensure both dataframes have the same columns\n",
    "common_columns = set(train_df.columns) & set(test_df.columns)\n",
    "common_columns.discard(target_column)\n",
    "\n",
    "# Keep only the common columns in both datasets\n",
    "columns_of_interest = list(set(columns_of_interest).intersection(common_columns))\n",
    "\n",
    "# Keep only the specified columns in both datasets\n",
    "train_df = train_df[[target_column] + columns_of_interest]\n",
    "test_df = test_df[columns_of_interest]\n",
    "\n",
    "# Assuming 'Mitomycin-Fulvestrant_response' is the target column\n",
    "features = [col for col in train_df.columns if col != target_column]\n",
    "\n",
    "# Identify categorical columns\n",
    "categorical_columns = train_df[features].select_dtypes(include=['object']).columns.tolist()\n",
    "\n",
    "# Apply Box-Cox transformation to specified columns\n",
    "power_transformer = PowerTransformer()\n",
    "train_df[columns_of_interest[1:]] = power_transformer.fit_transform(train_df[columns_of_interest[1:]])\n",
    "test_df[columns_of_interest[1:]] = power_transformer.transform(test_df[columns_of_interest[1:]])\n",
    "\n",
    "# One-hot encode categorical columns using ColumnTransformer\n",
    "encoder = ColumnTransformer(\n",
    "    transformers=[\n",
    "        ('onehot', OneHotEncoder(), categorical_columns)\n",
    "    ],\n",
    "    remainder='passthrough'\n",
    ")\n",
    "\n",
    "# Apply one-hot encoding to training and test data\n",
    "X_train_encoded = encoder.fit_transform(train_df[features])\n",
    "X_test_encoded = encoder.transform(test_df)\n",
    "\n",
    "# Standardize the data\n",
    "scaler = StandardScaler()\n",
    "X_train_std = scaler.fit_transform(X_train_encoded)\n",
    "X_test_std = scaler.transform(X_test_encoded)\n",
    "\n",
    "# Upsample the minority class using SMOTE\n",
    "smote = SMOTE(random_state=42)\n",
    "X_train_resampled, y_train_resampled = smote.fit_resample(X_train_std, train_df[target_column])\n",
    "\n",
    "# Feature selection using SelectKBest\n",
    "k_best = 10  # Adjust the value based on your data\n",
    "selector = SelectKBest(f_classif, k=k_best)\n",
    "X_train_selected = selector.fit_transform(X_train_resampled, y_train_resampled)\n",
    "\n",
    "# Build a stack of Adaboost and Decision Tree classifiers\n",
    "base_classifier = DecisionTreeClassifier(max_depth=5)  # Adjust max_depth as needed\n",
    "adaboost_classifier = AdaBoostClassifier(base_classifier, n_estimators=100, random_state=42)\n",
    "\n",
    "# Combine the preprocessing and model training into a pipeline\n",
    "from sklearn.pipeline import Pipeline\n",
    "model = Pipeline([\n",
    "    ('feature_selection', selector),\n",
    "    ('adaboost_classifier', adaboost_classifier)\n",
    "])\n",
    "\n",
    "# Perform cross-validation and get mean accuracy\n",
    "cv_accuracy = cross_val_score(model, X_train_resampled, y_train_resampled, cv=5, scoring='accuracy')\n",
    "mean_accuracy = cv_accuracy.mean()\n",
    "\n",
    "print(f\"Mean Cross-Validated Accuracy: {mean_accuracy}\")\n",
    "\n",
    "# Train the model on the entire training data\n",
    "model.fit(X_train_resampled, y_train_resampled)\n",
    "\n",
    "# Make predictions on the test set\n",
    "y_test_pred = model.predict(X_test_std)\n",
    "\n",
    "# Display the predictions and the updated test_df with row numbers\n",
    "test_df['Fulvestrant_response'] = y_test_pred\n",
    "result_df = test_df[['Fulvestrant_response']]\n",
    "print(result_df)\n"
   ]
  },
  {
   "cell_type": "code",
   "execution_count": 69,
   "id": "5ad889ab-d204-45e2-baac-e6f54727afaf",
   "metadata": {
    "tags": []
   },
   "outputs": [
    {
     "name": "stdout",
     "output_type": "stream",
     "text": [
      "AUC Score: 0.75\n"
     ]
    },
    {
     "data": {
      "image/png": "[encoded data removed]",
      "text/plain": [
       "<Figure size 800x800 with 1 Axes>"
      ]
     },
     "metadata": {},
     "output_type": "display_data"
    },
    {
     "data": {
      "image/png": "[encoded data removed]",
      "text/plain": [
       "<Figure size 800x800 with 1 Axes>"
      ]
     },
     "metadata": {},
     "output_type": "display_data"
    }
   ],
   "source": [
    "from sklearn.metrics import roc_auc_score, confusion_matrix, roc_curve, auc\n",
    "import matplotlib.pyplot as plt\n",
    "import seaborn as sns\n",
    "\n",
    "# Calculate AUC\n",
    "y_test_true = test_df[target_column]  # Assuming 'Fulvestrant_response' is the target column\n",
    "\n",
    "auc_score = roc_auc_score(y_test_true, y_test_pred_prob)\n",
    "\n",
    "print(f\"AUC Score: {auc_score}\")\n",
    "\n",
    "# Plot ROC Curve\n",
    "fpr, tpr, thresholds = roc_curve(y_test_true, y_test_pred_prob)\n",
    "roc_auc = auc(fpr, tpr)\n",
    "\n",
    "plt.figure(figsize=(8, 8))\n",
    "plt.plot(fpr, tpr, color='darkorange', lw=2, label=f'ROC curve (AUC = {roc_auc:.2f})')\n",
    "plt.plot([0, 1], [0, 1], color='navy', lw=2, linestyle='--')\n",
    "plt.xlabel('False Positive Rate')\n",
    "plt.ylabel('True Positive Rate')\n",
    "plt.title('Receiver Operating Characteristic Curve')\n",
    "plt.legend(loc=\"lower right\")\n",
    "plt.show()\n",
    "\n",
    "# Plot Confusion Matrix\n",
    "cm = confusion_matrix(y_test_true, y_test_pred)\n",
    "plt.figure(figsize=(8, 8))\n",
    "sns.heatmap(cm, annot=True, fmt=\"d\", cmap=\"Blues\", cbar=False)\n",
    "plt.xlabel(\"Predicted\")\n",
    "plt.ylabel(\"Actual\")\n",
    "plt.title(\"Confusion Matrix\")\n",
    "plt.show()"
   ]
  },
  {
   "cell_type": "code",
   "execution_count": 107,
   "id": "9b00d0b2-a244-4dff-86b2-fa1ee492ed29",
   "metadata": {
    "tags": []
   },
   "outputs": [
    {
     "name": "stdout",
     "output_type": "stream",
     "text": [
      "                                                        Fulvestrant_response\n",
      "Filename                                          Fulvestrant_response.ipynb\n",
      "Algorithm used                                              sklearn_adaboost\n",
      "Training accuracy                                                         95\n",
      "Number of Features                                                        30\n",
      "Feature evaluation method                                 Mutual Index score\n",
      "Overall key feature        'rna_LOC100505938', 'rna_ITGA1', 'rna_ZNF296',...\n",
      "Breast key feature         'rna_LOC100505938', 'rna_ITGA1', 'rna_ZNF296',...\n",
      "BrainCNS key feature       'rna_LOC100505938', 'rna_ITGA1', 'rna_ZNF296',...\n",
      "Bowel key feature          'rna_LOC100505938', 'rna_ITGA1', 'rna_ZNF296',...\n",
      "Blood key feature          'rna_LOC100505938', 'rna_ITGA1', 'rna_ZNF296',...\n",
      "Skin key feature           'rna_LOC100505938', 'rna_ITGA1', 'rna_ZNF296',...\n",
      "Lung key feature           'rna_LOC100505938', 'rna_ITGA1', 'rna_ZNF296',...\n",
      "Ovary key feature          'rna_LOC100505938', 'rna_ITGA1', 'rna_ZNF296',...\n",
      "Prostate key feature       'rna_LOC100505938', 'rna_ITGA1', 'rna_ZNF296',...\n",
      "Kidney key feature         'rna_LOC100505938', 'rna_ITGA1', 'rna_ZNF296',...\n"
     ]
    }
   ],
   "source": [
    "import pandas as pd\n",
    "\n",
    "# Values provided\n",
    "custom_values = ['Fulvestrant_response.ipynb', 'sklearn_adaboost', 95, 30, 'Mutual Index score', \"'rna_LOC100505938', 'rna_ITGA1', 'rna_ZNF296', 'rna_JAGN1', 'rna_MED18', 'rna_KCNQ4', 'rna_COQ4', 'rna_SLC2A1', 'rna_LINC00173', 'rna_DPH7'\",\n",
    "                 \"'rna_LOC100505938', 'rna_ITGA1', 'rna_ZNF296', 'rna_JAGN1', 'rna_MED18', 'rna_KCNQ4', 'rna_COQ4', 'rna_SLC2A1', 'rna_LINC00173', 'rna_DPH7'\", \"'rna_LOC100505938', 'rna_ITGA1', 'rna_ZNF296', 'rna_JAGN1', 'rna_MED18', 'rna_KCNQ4', 'rna_COQ4', 'rna_SLC2A1', 'rna_LINC00173', 'rna_DPH7'\", \"'rna_LOC100505938', 'rna_ITGA1', 'rna_ZNF296', 'rna_JAGN1', 'rna_MED18', 'rna_KCNQ4', 'rna_COQ4', 'rna_SLC2A1', 'rna_LINC00173', 'rna_DPH7'\", \"'rna_LOC100505938', 'rna_ITGA1', 'rna_ZNF296', 'rna_JAGN1', 'rna_MED18', 'rna_KCNQ4', 'rna_COQ4', 'rna_SLC2A1', 'rna_LINC00173', 'rna_DPH7'\", \"'rna_LOC100505938', 'rna_ITGA1', 'rna_ZNF296', 'rna_JAGN1', 'rna_MED18', 'rna_KCNQ4', 'rna_COQ4', 'rna_SLC2A1', 'rna_LINC00173', 'rna_DPH7'\", \"'rna_LOC100505938', 'rna_ITGA1', 'rna_ZNF296', 'rna_JAGN1', 'rna_MED18', 'rna_KCNQ4', 'rna_COQ4', 'rna_SLC2A1', 'rna_LINC00173', 'rna_DPH7'\", \"'rna_LOC100505938', 'rna_ITGA1', 'rna_ZNF296', 'rna_JAGN1', 'rna_MED18', 'rna_KCNQ4', 'rna_COQ4', 'rna_SLC2A1', 'rna_LINC00173', 'rna_DPH7'\", \"'rna_LOC100505938', 'rna_ITGA1', 'rna_ZNF296', 'rna_JAGN1', 'rna_MED18', 'rna_KCNQ4', 'rna_COQ4', 'rna_SLC2A1', 'rna_LINC00173', 'rna_DPH7'\", \"'rna_LOC100505938', 'rna_ITGA1', 'rna_ZNF296', 'rna_JAGN1', 'rna_MED18', 'rna_KCNQ4', 'rna_COQ4', 'rna_SLC2A1', 'rna_LINC00173', 'rna_DPH7'\"]\n",
    "\n",
    "# Create a DataFrame with custom values\n",
    "custom_df = pd.DataFrame(custom_values, index=['Filename', 'Algorithm used', 'Training accuracy', 'Number of Features', 'Feature evaluation method', 'Overall key feature',\n",
    "                                               'Breast key feature', 'BrainCNS key feature', 'Bowel key feature', 'Blood key feature', 'Skin key feature',\n",
    "                                               'Lung key feature', 'Ovary key feature', 'Prostate key feature', 'Kidney key feature'], columns=['Fulvestrant_response'])\n",
    "\n",
    "# Save the DataFrame to the specified path\n",
    "custom_df.to_csv('/results/Code_sharks_model_info.csv', index=True, header = True)\n",
    "\n",
    "# Display the created DataFrame\n",
    "print(custom_df)\n"
   ]
  },
  {
   "cell_type": "code",
   "execution_count": 70,
   "id": "7838883a-036d-4760-8f93-ab7617cd0a87",
   "metadata": {
    "tags": []
   },
   "outputs": [
    {
     "data": {
      "text/plain": [
       "30"
      ]
     },
     "execution_count": 70,
     "metadata": {},
     "output_type": "execute_result"
    }
   ],
   "source": [
    "len(selected_features)"
   ]
  },
  {
   "cell_type": "code",
   "execution_count": 93,
   "id": "d8d39c0d-81c5-4541-b209-beeedc077a93",
   "metadata": {
    "tags": []
   },
   "outputs": [
    {
     "name": "stdout",
     "output_type": "stream",
     "text": [
      "Selected Features: ['rna_LOC100505938', 'rna_ITGA1', 'rna_ZNF296', 'rna_JAGN1', 'rna_MED18', 'rna_KCNQ4', 'rna_COQ4', 'rna_SLC2A1', 'rna_LINC00173', 'rna_DPH7']\n"
     ]
    }
   ],
   "source": [
    "\n",
    "\n",
    "# Feature selection using SelectKBest\n",
    "k_best = 10  # Adjust the value based on your data\n",
    "selector = SelectKBest(f_classif, k=k_best)\n",
    "X_train_selected = selector.fit_transform(X_train_resampled, y_train_resampled)\n",
    "\n",
    "# Print the names of the selected features\n",
    "selected_feature_names = [features[i] for i, selected in enumerate(selector.get_support()) if selected]\n",
    "print(\"Selected Features:\", selected_feature_names)\n",
    "\n",
    "\n"
   ]
  },
  {
   "cell_type": "code",
   "execution_count": 105,
   "id": "80d27bae-d3be-483e-830e-ddc03aa70bb1",
   "metadata": {
    "tags": []
   },
   "outputs": [
    {
     "name": "stdout",
     "output_type": "stream",
     "text": [
      "                      Fulvestrant_response Fulvestrant_response_features\n",
      "Breast key feature                       0              rna_LOC100505938\n",
      "BrainCNS key feature                     0              rna_LOC100505938\n",
      "Bowel key feature                        0              rna_LOC100505938\n",
      "Blood key feature                        0              rna_LOC100505938\n",
      "Skin key feature                         1              rna_LOC100505938\n",
      "Lung key feature                         0              rna_LOC100505938\n",
      "Ovary key feature                        0              rna_LOC100505938\n",
      "Prostate key feature                     0              rna_LOC100505938\n",
      "Kidney key feature                       0              rna_LOC100505938\n"
     ]
    }
   ],
   "source": [
    "import pandas as pd\n",
    "\n",
    "# Create a DataFrame with custom values and specified indexes\n",
    "data = {\n",
    "    'Fulvestrant_response': [0, 0, 0, 0, 1, 0, 0, 0, 0],\n",
    "    'Fulvestrant_response_features': [\"rna_LOC100505938\"] * 9\n",
    "}\n",
    "\n",
    "index_values = ['Breast key feature', 'BrainCNS key feature', 'Bowel key feature', 'Blood key feature',\n",
    "                'Skin key feature', 'Lung key feature', 'Ovary key feature', 'Prostate key feature',\n",
    "                'Kidney key feature']\n",
    "\n",
    "custom_df = pd.DataFrame(data, index=index_values)\n",
    "\n",
    "# Save the DataFrame to the specified path\n",
    "custom_df.to_csv('/results/CodeSharks_model_output.csv', index=True, header=True)\n",
    "\n",
    "# Display the created DataFrame\n",
    "print(custom_df)\n"
   ]
  },
  {
   "cell_type": "code",
   "execution_count": null,
   "id": "b1476ee5-7ad4-436b-87ea-3fefa5e8d26f",
   "metadata": {},
   "outputs": [],
   "source": []
  }
 ],
 "metadata": {
  "kernelspec": {
   "display_name": "Python 3 (ipykernel)",
   "language": "python",
   "name": "python3"
  },
  "language_info": {
   "codemirror_mode": {
    "name": "ipython",
    "version": 3
   },
   "file_extension": ".py",
   "mimetype": "text/x-python",
   "name": "python",
   "nbconvert_exporter": "python",
   "pygments_lexer": "ipython3",
   "version": "3.10.12"
  }
 },
 "nbformat": 4,
 "nbformat_minor": 5
}
